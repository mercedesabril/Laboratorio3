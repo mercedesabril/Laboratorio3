{
 "cells": [
  {
   "cell_type": "markdown",
   "metadata": {},
   "source": [
    "# Mediciones de corriente continua"
   ]
  },
  {
   "cell_type": "code",
   "execution_count": 4,
   "metadata": {},
   "outputs": [],
   "source": [
    "import numpy as np\n",
    "import matplotlib.pyplot as plt\n",
    "import seaborn as sns\n",
    "sns.set()\n",
    "from scipy.optimize import curve_fit\n",
    "import pandas as pd"
   ]
  },
  {
   "cell_type": "markdown",
   "metadata": {},
   "source": [
    "### Clase Medición"
   ]
  },
  {
   "cell_type": "code",
   "execution_count": 67,
   "metadata": {},
   "outputs": [],
   "source": [
    "class Medicion(object):\n",
    "    \n",
    "    \"\"\"\n",
    "    Documentacion de la clase Medicion\n",
    "    \"\"\"\n",
    "    \n",
    "    def __init__(self):\n",
    "        self.lectura_resistencia = np.NaN\n",
    "        self.unidad_resistencia = np.NaN\n",
    "        self.escala_resistencia = np.NaN\n",
    "        self.lectura_amperimetro = np.NaN\n",
    "        self.unidad_amperimetro = np.NaN\n",
    "        self.escala_amperimetro = np.NaN   \n",
    "        self.lectura_voltimetro = np.NaN\n",
    "        self.unidad_voltimetro = np.NaN\n",
    "        self.escala_voltimetro = np.NaN\n",
    "        self.error_amperimetro = np.NaN\n",
    "        self.error_voltimetro = np.NaN\n",
    "        self.parametros = np.NaN\n",
    "        self.matriz_var = np.NaN\n",
    "\n",
    "    \n",
    "    #funcion que me permite cargar los datos, se puede usar despues Medicion.cargar_resistencia(ponervalores)\n",
    "    def cargar_resistencia(self, valores, unidad, escala):\n",
    "        \n",
    "        self.lectura_resistencia = valores\n",
    "        self.unidad_resistencia = unidad\n",
    "        self.escala_resistencia = escala\n",
    "    \n",
    "    def cargar_corriente(self, valores, unidad, escala):\n",
    "        \n",
    "        self.lectura_amperimetro = valores\n",
    "        self.unidad_amperimetro = unidad\n",
    "        self.escala_amperimetro = escala\n",
    "        \n",
    "    def cargar_voltaje(self, valores, unidad, escala):\n",
    "        \n",
    "        self.lectura_voltimetro = valores\n",
    "        self.unidad_voltimetro = unidad\n",
    "        self.escala_voltimetro = escala\n",
    "        \n",
    "    def cargar_error(self, eAmp, eVol):\n",
    "        self.error_amperimetro = eAmp\n",
    "        self.error_voltimetro = eVol\n",
    "        \n",
    "    def gen_df(self):\n",
    "        \n",
    "        self.datos = pd.DataFrame({\n",
    "                'voltaje': self.lectura_voltimetro, \n",
    "                'corriente': self.lectura_amperimetro,\n",
    "                'resistencia': self.lectura_resistencia})\n",
    "        \n",
    "    def cargar_parametros(self, param, var):\n",
    "        self.parametros = param\n",
    "        self.matriz_var = var\n",
    "        "
   ]
  },
  {
   "cell_type": "markdown",
   "metadata": {},
   "source": [
    "### Incerteza del multímetro"
   ]
  },
  {
   "cell_type": "code",
   "execution_count": 68,
   "metadata": {},
   "outputs": [],
   "source": [
    "# x es la fracción porcentual (ver en manual)\n",
    "# n es un número natural (ver en manual)\n",
    "# dms es el dígito menos significativo (pantalla del multímetro)\n",
    "# L es la lectura del multímetro (pantalla del multímetro)\n",
    "\n",
    "def error_mult(x, L, n, dms):\n",
    "    \n",
    "    error = (x*L) + (n*dms)\n",
    "    \n",
    "    return error\n",
    "    "
   ]
  },
  {
   "cell_type": "markdown",
   "metadata": {},
   "source": [
    "## Medición resistencia interna del amperímetro"
   ]
  },
  {
   "cell_type": "code",
   "execution_count": 69,
   "metadata": {},
   "outputs": [],
   "source": [
    "med1 = Medicion()\n",
    "med1.cargar_corriente([1.950,1.812,1.691,1.636,1.538,1.450,1.330,1.181,1.104,1.016,0.941,0.876,0.819,0.770,0.726,0.669,0.627,0.559,0.504,0.458], 'mA', '2mA')\n",
    "med1.cargar_voltaje([195.0,181.1,169.0,163.6,153.7,144.9,133.5,118.0,110.4,101.5,94.0,87.5,81.5,76.9,72.6,66.6,62.7,55.8,50.3,45.8], 'mV', '200mV')\n",
    "\n",
    "error = list()\n",
    "for i in range(len(med1.lectura_amperimetro)):\n",
    "    error.append(error_mult(0.8/100, med1.lectura_amperimetro[i], 1, 0.001))\n",
    "    \n",
    "med1.cargar_error(error, np.NaN)"
   ]
  },
  {
   "cell_type": "markdown",
   "metadata": {},
   "source": [
    "Defino una función lineal común:"
   ]
  },
  {
   "cell_type": "code",
   "execution_count": 71,
   "metadata": {},
   "outputs": [],
   "source": [
    "def lineal(x, A, b):\n",
    "    y = A*x + b\n",
    "    return(y)"
   ]
  },
  {
   "cell_type": "markdown",
   "metadata": {},
   "source": [
    "Ajuste:"
   ]
  },
  {
   "cell_type": "code",
   "execution_count": 91,
   "metadata": {},
   "outputs": [
    {
     "name": "stdout",
     "output_type": "stream",
     "text": [
      "Según el ajuste lineal realizado, la pendiente (y por lo tanto la resistencia del amperímetro) es:  100.04831944781702 , y la ordenada al origen es: -0.12088341676401236 . Los errores asociados son:  [0.09323704 0.08027086]\n"
     ]
    }
   ],
   "source": [
    "params, var = curve_fit(lineal, med1.lectura_amperimetro, med1.lectura_voltimetro, p0=[1,0], sigma = med1.error_amperimetro)\n",
    "med1.cargar_parametros(params, var)\n",
    "print('Según el ajuste lineal realizado, la pendiente (y por lo tanto la resistencia del amperímetro) es: ', \n",
    "      med1.parametros[0],  ', y la ordenada al origen es:', med1.parametros[1], '. Los errores asociados son: ', \n",
    "      np.sqrt(np.diag(med1.matriz_var)))"
   ]
  },
  {
   "cell_type": "markdown",
   "metadata": {},
   "source": [
    "Gráfico:"
   ]
  },
  {
   "cell_type": "code",
   "execution_count": 93,
   "metadata": {},
   "outputs": [
    {
     "data": {
      "text/plain": [
       "<matplotlib.legend.Legend at 0x7f55b108cc50>"
      ]
     },
     "execution_count": 93,
     "metadata": {},
     "output_type": "execute_result"
    },
    {
     "data": {
      "image/png": "[encoded data removed]",
      "text/plain": [
       "<Figure size 576x432 with 1 Axes>"
      ]
     },
     "metadata": {},
     "output_type": "display_data"
    }
   ],
   "source": [
    "fig = plt.figure(figsize = [8,6])\n",
    "plt.plot(med1.lectura_amperimetro, med1.lectura_voltimetro, 'o', label = 'Datos')\n",
    "plt.plot(np.linspace(0.4, 2.0, 1000), lineal(np.linspace(0.4, 2.0, 1000), *med1.parametros), label = 'Ajuste')\n",
    "plt.title('Medición de resistencia interna del amperímetro. \\n Gráfico de tensión en función de corriente. \\n Escala amperímetro: 2mA. Escala voltímetro: 200mV.')\n",
    "plt.xlabel('Corriente(mA)')\n",
    "plt.ylabel('Voltaje(mV)')\n",
    "plt.legend()"
   ]
  },
  {
   "cell_type": "code",
   "execution_count": null,
   "metadata": {},
   "outputs": [],
   "source": []
  }
 ],
 "metadata": {
  "kernelspec": {
   "display_name": "Python 3",
   "language": "python",
   "name": "python3"
  },
  "language_info": {
   "codemirror_mode": {
    "name": "ipython",
    "version": 3
   },
   "file_extension": ".py",
   "mimetype": "text/x-python",
   "name": "python",
   "nbconvert_exporter": "python",
   "pygments_lexer": "ipython3",
   "version": "3.6.9"
  }
 },
 "nbformat": 4,
 "nbformat_minor": 2
}
